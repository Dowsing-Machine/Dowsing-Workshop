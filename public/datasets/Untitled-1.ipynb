{
 "cells": [
  {
   "cell_type": "code",
   "execution_count": 55,
   "metadata": {},
   "outputs": [],
   "source": [
    "import json\n",
    "with open('movies_ori.json') as f:\n",
    "    data = json.load(f)"
   ]
  },
  {
   "cell_type": "code",
   "execution_count": 56,
   "metadata": {},
   "outputs": [],
   "source": [
    "for i in data:\n",
    "    del i[\"Running_Time_min\"]\n",
    "    del i[\"US_DVD_Sales\"]\n",
    "    del i[\"Director\"]\n",
    "    del i[\"Rotten_Tomatoes_Rating\"]"
   ]
  },
  {
   "cell_type": "code",
   "execution_count": 57,
   "metadata": {},
   "outputs": [
    {
     "name": "stdout",
     "output_type": "stream",
     "text": [
      "None\n"
     ]
    }
   ],
   "source": [
    "print(data[0][\"Source\"])"
   ]
  },
  {
   "cell_type": "code",
   "execution_count": 58,
   "metadata": {},
   "outputs": [],
   "source": [
    "new_data=[]\n",
    "for i in data:\n",
    "    cnt=0\n",
    "    for key in i.keys():\n",
    "        if i[key]==None:\n",
    "            cnt+=1\n",
    "    if cnt<3 and i[\"IMDB_Rating\"]!=None and i[\"Creative_Type\"]!=\"Multiple Creative Types\" and i[\"Source\"]!=\"Musical Group Movie\" and i[\"Source\"]!=\"Based on Toy\":\n",
    "        new_data.append(i)\n",
    "    "
   ]
  },
  {
   "cell_type": "code",
   "execution_count": 59,
   "metadata": {},
   "outputs": [],
   "source": [
    "with open(\"movies.json\", \"w\") as f:\n",
    "    json.dump(new_data, f)"
   ]
  },
  {
   "cell_type": "code",
   "execution_count": null,
   "metadata": {},
   "outputs": [],
   "source": []
  }
 ],
 "metadata": {
  "interpreter": {
   "hash": "74da315ba088c083651aa5a30ee959024b740d955ef648d97e1b1f4530898efb"
  },
  "kernelspec": {
   "display_name": "Python 3.8.8 ('base')",
   "language": "python",
   "name": "python3"
  },
  "language_info": {
   "codemirror_mode": {
    "name": "ipython",
    "version": 3
   },
   "file_extension": ".py",
   "mimetype": "text/x-python",
   "name": "python",
   "nbconvert_exporter": "python",
   "pygments_lexer": "ipython3",
   "version": "3.8.8"
  },
  "orig_nbformat": 4
 },
 "nbformat": 4,
 "nbformat_minor": 2
}
