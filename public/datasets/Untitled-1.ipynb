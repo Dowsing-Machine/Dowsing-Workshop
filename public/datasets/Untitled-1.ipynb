{
 "cells": [
  {
   "cell_type": "code",
   "execution_count": 115,
   "metadata": {},
   "outputs": [],
   "source": [
    "import json\n",
    "with open('movies_ori.json') as f:\n",
    "    data = json.load(f)"
   ]
  },
  {
   "cell_type": "code",
   "execution_count": 116,
   "metadata": {},
   "outputs": [],
   "source": [
    "for i in data:\n",
    "    del i[\"Running_Time_min\"]\n",
    "    del i[\"US_DVD_Sales\"]\n",
    "    del i[\"Director\"]\n",
    "    del i[\"Rotten_Tomatoes_Rating\"]"
   ]
  },
  {
   "cell_type": "code",
   "execution_count": 117,
   "metadata": {},
   "outputs": [
    {
     "name": "stdout",
     "output_type": "stream",
     "text": [
      "None\n"
     ]
    }
   ],
   "source": [
    "print(data[0][\"Source\"])"
   ]
  },
  {
   "cell_type": "code",
   "execution_count": 118,
   "metadata": {},
   "outputs": [],
   "source": [
    "for i in data:\n",
    "    for key in i.keys():\n",
    "        if i[key]==None:\n",
    "            i[key]=\"null\""
   ]
  },
  {
   "cell_type": "code",
   "execution_count": 119,
   "metadata": {},
   "outputs": [],
   "source": [
    "new_data=[]\n",
    "for i in data:\n",
    "    cnt=0\n",
    "    for key in i.keys():\n",
    "        if i[key]==\"null\":\n",
    "            cnt+=1\n",
    "    if cnt<3 and i[\"Title\"]!=\"null\"and i[\"US_Gross\"]!=\"null\" and i[\"Worldwide_Gross\"]!=\"null\" and i[\"Production_Budget\"]!=\"null\" and i[\"MPAA_Rating\"]!=\"null\" and i[\"IMDB_Rating\"]!=\"null\" and i[\"Creative_Type\"]!=\"Multiple Creative Types\" !=\"null\" :\n",
    "        new_data.append(i)\n",
    "    "
   ]
  },
  {
   "cell_type": "code",
   "execution_count": 120,
   "metadata": {},
   "outputs": [],
   "source": [
    "sourceother=[\"null\",\"Musical Group Movie\",\"Based on Toy\",\"Based on Factual Book/Article\",\"Based on Magazine Article\",\"Based on Musical/Opera\",\"Based on Short Film\",\"Disney Ride\",\"Spin-Off\",\"Traditional/Legend/Fairytale\"]\n",
    "\n",
    "Major_Genreother=[\"null\",\"Concert/Performance\",\"Western\"]\n",
    "Creative_Typeother=[\"null\",\"Super Hero\",\"Factual\"]\n",
    "for i in new_data:\n",
    "    if i[\"Source\"] in sourceother:\n",
    "        i[\"Source\"]=\"others\"\n",
    "    if i[\"Distributor\"] ==\"null\":\n",
    "        i[\"Distributor\"]=\"unknown\"\n",
    "    if i[\"Major_Genre\"] in Major_Genreother:\n",
    "        i[\"Major_Genre\"]=\"others\"\n",
    "    if i[\"Creative_Type\"] in Creative_Typeother:\n",
    "        i[\"Creative_Type\"]=\"others\"\n",
    "    "
   ]
  },
  {
   "cell_type": "code",
   "execution_count": 121,
   "metadata": {},
   "outputs": [],
   "source": [
    "with open(\"movies.json\", \"w\") as f:\n",
    "    json.dump(new_data, f)"
   ]
  },
  {
   "cell_type": "code",
   "execution_count": null,
   "metadata": {},
   "outputs": [],
   "source": []
  }
 ],
 "metadata": {
  "interpreter": {
   "hash": "74da315ba088c083651aa5a30ee959024b740d955ef648d97e1b1f4530898efb"
  },
  "kernelspec": {
   "display_name": "Python 3.8.8 ('base')",
   "language": "python",
   "name": "python3"
  },
  "language_info": {
   "codemirror_mode": {
    "name": "ipython",
    "version": 3
   },
   "file_extension": ".py",
   "mimetype": "text/x-python",
   "name": "python",
   "nbconvert_exporter": "python",
   "pygments_lexer": "ipython3",
   "version": "3.8.8"
  },
  "orig_nbformat": 4
 },
 "nbformat": 4,
 "nbformat_minor": 2
}
