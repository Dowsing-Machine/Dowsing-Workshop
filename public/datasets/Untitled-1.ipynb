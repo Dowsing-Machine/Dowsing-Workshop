{
 "cells": [
  {
   "cell_type": "code",
   "execution_count": 1,
   "metadata": {},
   "outputs": [],
   "source": [
    "import json\n",
    "with open('birdstrikes-lite.json') as f:\n",
    "    data = json.load(f)"
   ]
  },
  {
   "cell_type": "code",
   "execution_count": 2,
   "metadata": {},
   "outputs": [
    {
     "name": "stdout",
     "output_type": "stream",
     "text": [
      "{'Effect Amountof_damage': 'None', 'Flight_Date': '1990/1/9', 'Phase_of_flight': 'Approach', 'Wildlife_Size': 'Medium', 'Time_of_day': 'Night', 'Cost_Other': 0.0, 'Cost_Repair': 0.0, 'Cost_Total_dollars': 0.0, 'Speed_IAS_in_knots': 200.0, 'Year': 1990, 'Month': 1, 'Day': 9}\n"
     ]
    }
   ],
   "source": [
    "for i in data:\n",
    "    \n",
    "        if \"Effect_Amount_of_damage\" not in i.keys():\n",
    "            print(i)"
   ]
  }
 ],
 "metadata": {
  "interpreter": {
   "hash": "74da315ba088c083651aa5a30ee959024b740d955ef648d97e1b1f4530898efb"
  },
  "kernelspec": {
   "display_name": "Python 3.8.8 ('base')",
   "language": "python",
   "name": "python3"
  },
  "language_info": {
   "codemirror_mode": {
    "name": "ipython",
    "version": 3
   },
   "file_extension": ".py",
   "mimetype": "text/x-python",
   "name": "python",
   "nbconvert_exporter": "python",
   "pygments_lexer": "ipython3",
   "version": "3.8.8"
  },
  "orig_nbformat": 4
 },
 "nbformat": 4,
 "nbformat_minor": 2
}
